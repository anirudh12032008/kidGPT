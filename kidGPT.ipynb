{
  "nbformat": 4,
  "nbformat_minor": 0,
  "metadata": {
    "colab": {
      "provenance": [],
      "gpuType": "T4",
      "authorship_tag": "ABX9TyMS/NNd5/AWxbaJ//9ZILFC",
      "include_colab_link": true
    },
    "kernelspec": {
      "name": "python3",
      "display_name": "Python 3"
    },
    "language_info": {
      "name": "python"
    },
    "accelerator": "GPU"
  },
  "cells": [
    {
      "cell_type": "markdown",
      "metadata": {
        "id": "view-in-github",
        "colab_type": "text"
      },
      "source": [
        "<a href=\"https://colab.research.google.com/github/anirudh12032008/kidGPT/blob/main/kidGPT.ipynb\" target=\"_parent\"><img src=\"https://colab.research.google.com/assets/colab-badge.svg\" alt=\"Open In Colab\"/></a>"
      ]
    },
    {
      "cell_type": "markdown",
      "source": [
        "# Loading Dataset"
      ],
      "metadata": {
        "id": "t7oaaUop1iKF"
      }
    },
    {
      "cell_type": "code",
      "execution_count": 10,
      "metadata": {
        "id": "TKp9XESPwD94",
        "colab": {
          "base_uri": "https://localhost:8080/"
        },
        "outputId": "02ceb299-5677-43d5-e018-69a5ac263070"
      },
      "outputs": [
        {
          "output_type": "stream",
          "name": "stdout",
          "text": [
            "                                                text\n",
            "0  “If others have tried it,” said Brother Lustig...\n",
            "1  “Leave it alone,” said the host, “it will cost...\n",
            "2  Brother Lustig said, “Well, dance as long as y...\n",
            "3  and got the leg of a chair and struck out into...\n",
            "4  replied Brother Lustig, “I am used to wanderin...\n"
          ]
        }
      ],
      "source": [
        "import pandas as pd\n",
        "import re\n",
        "from collections import Counter\n",
        "from torch.utils.data import Dataset\n",
        "\n",
        "splits = {\n",
        "    'train': 'data/train-00000-of-00001-aea567a5783be827.parquet',\n",
        "    'valid': 'data/valid-00000-of-00001-0177e6dbdee45eef.parquet',\n",
        "    'test': 'data/test-00000-of-00001-0b94257b623049e5.parquet'\n",
        "}\n",
        "df_train = pd.read_parquet(\"hf://datasets/deven367/babylm-10M-children-stories/\" + splits[\"train\"])\n",
        "df_valid = pd.read_parquet(\"hf://datasets/deven367/babylm-10M-children-stories/\" + splits[\"valid\"])\n",
        "df_test = pd.read_parquet(\"hf://datasets/deven367/babylm-10M-children-stories/\" + splits[\"test\"])\n",
        "\n",
        "print(df_train.head())"
      ]
    },
    {
      "cell_type": "markdown",
      "source": [
        "## Vocabulary"
      ],
      "metadata": {
        "id": "WAnZ36ld1_k0"
      }
    },
    {
      "cell_type": "code",
      "source": [
        "def tokenize(text):\n",
        "    text = text.lower()\n",
        "    tokens = re.findall(r'\\b\\w+\\b', text)\n",
        "    return tokens\n",
        "\n",
        "counter = Counter()\n",
        "for text in df_train[\"text\"]:\n",
        "    counter.update(tokenize(text))\n",
        "\n",
        "vocab = {word: idx for idx, (word, _) in enumerate(counter.most_common(), start=1)}\n",
        "vocab['<PAD>'] = 0\n",
        "inverse_vocab = {idx: word for word, idx in vocab.items()}\n",
        "\n",
        "\n",
        "def text_to_indices(text, vocab):\n",
        "    tokens = tokenize(text)\n",
        "    return [vocab[token] for token in tokens if token in vocab]\n",
        "\n",
        "df_train[\"input_ids\"] = df_train[\"text\"].apply(lambda x: text_to_indices(x, vocab))\n",
        "df_valid[\"input_ids\"] = df_valid[\"text\"].apply(lambda x: text_to_indices(x, vocab))\n",
        "\n",
        "df_train.head()"
      ],
      "metadata": {
        "colab": {
          "base_uri": "https://localhost:8080/",
          "height": 206
        },
        "id": "AKWzCioH0uVz",
        "outputId": "f46fdc95-5df8-49ba-8391-33cf120f26dd"
      },
      "execution_count": 11,
      "outputs": [
        {
          "output_type": "execute_result",
          "data": {
            "text/plain": [
              "                                                text  \\\n",
              "0  “If others have tried it,” said Brother Lustig...   \n",
              "1  “Leave it alone,” said the host, “it will cost...   \n",
              "2  Brother Lustig said, “Well, dance as long as y...   \n",
              "3  and got the leg of a chair and struck out into...   \n",
              "4  replied Brother Lustig, “I am used to wanderin...   \n",
              "\n",
              "                                           input_ids  \n",
              "0  [41, 363, 32, 391, 9, 14, 262, 1713, 12, 42, 4...  \n",
              "1  [305, 9, 368, 14, 1, 1464, 9, 42, 1714, 18, 97...  \n",
              "2  [262, 1713, 14, 79, 1152, 23, 96, 23, 18, 101,...  \n",
              "3  [2, 92, 1, 976, 6, 5, 2103, 2, 626, 38, 58, 1,...  \n",
              "4  [379, 262, 1713, 12, 140, 426, 3, 2545, 75, 12...  "
            ],
            "text/html": [
              "\n",
              "  <div id=\"df-0601b6c7-08c3-4f0d-8c1b-39b811763a76\" class=\"colab-df-container\">\n",
              "    <div>\n",
              "<style scoped>\n",
              "    .dataframe tbody tr th:only-of-type {\n",
              "        vertical-align: middle;\n",
              "    }\n",
              "\n",
              "    .dataframe tbody tr th {\n",
              "        vertical-align: top;\n",
              "    }\n",
              "\n",
              "    .dataframe thead th {\n",
              "        text-align: right;\n",
              "    }\n",
              "</style>\n",
              "<table border=\"1\" class=\"dataframe\">\n",
              "  <thead>\n",
              "    <tr style=\"text-align: right;\">\n",
              "      <th></th>\n",
              "      <th>text</th>\n",
              "      <th>input_ids</th>\n",
              "    </tr>\n",
              "  </thead>\n",
              "  <tbody>\n",
              "    <tr>\n",
              "      <th>0</th>\n",
              "      <td>“If others have tried it,” said Brother Lustig...</td>\n",
              "      <td>[41, 363, 32, 391, 9, 14, 262, 1713, 12, 42, 4...</td>\n",
              "    </tr>\n",
              "    <tr>\n",
              "      <th>1</th>\n",
              "      <td>“Leave it alone,” said the host, “it will cost...</td>\n",
              "      <td>[305, 9, 368, 14, 1, 1464, 9, 42, 1714, 18, 97...</td>\n",
              "    </tr>\n",
              "    <tr>\n",
              "      <th>2</th>\n",
              "      <td>Brother Lustig said, “Well, dance as long as y...</td>\n",
              "      <td>[262, 1713, 14, 79, 1152, 23, 96, 23, 18, 101,...</td>\n",
              "    </tr>\n",
              "    <tr>\n",
              "      <th>3</th>\n",
              "      <td>and got the leg of a chair and struck out into...</td>\n",
              "      <td>[2, 92, 1, 976, 6, 5, 2103, 2, 626, 38, 58, 1,...</td>\n",
              "    </tr>\n",
              "    <tr>\n",
              "      <th>4</th>\n",
              "      <td>replied Brother Lustig, “I am used to wanderin...</td>\n",
              "      <td>[379, 262, 1713, 12, 140, 426, 3, 2545, 75, 12...</td>\n",
              "    </tr>\n",
              "  </tbody>\n",
              "</table>\n",
              "</div>\n",
              "    <div class=\"colab-df-buttons\">\n",
              "\n",
              "  <div class=\"colab-df-container\">\n",
              "    <button class=\"colab-df-convert\" onclick=\"convertToInteractive('df-0601b6c7-08c3-4f0d-8c1b-39b811763a76')\"\n",
              "            title=\"Convert this dataframe to an interactive table.\"\n",
              "            style=\"display:none;\">\n",
              "\n",
              "  <svg xmlns=\"http://www.w3.org/2000/svg\" height=\"24px\" viewBox=\"0 -960 960 960\">\n",
              "    <path d=\"M120-120v-720h720v720H120Zm60-500h600v-160H180v160Zm220 220h160v-160H400v160Zm0 220h160v-160H400v160ZM180-400h160v-160H180v160Zm440 0h160v-160H620v160ZM180-180h160v-160H180v160Zm440 0h160v-160H620v160Z\"/>\n",
              "  </svg>\n",
              "    </button>\n",
              "\n",
              "  <style>\n",
              "    .colab-df-container {\n",
              "      display:flex;\n",
              "      gap: 12px;\n",
              "    }\n",
              "\n",
              "    .colab-df-convert {\n",
              "      background-color: #E8F0FE;\n",
              "      border: none;\n",
              "      border-radius: 50%;\n",
              "      cursor: pointer;\n",
              "      display: none;\n",
              "      fill: #1967D2;\n",
              "      height: 32px;\n",
              "      padding: 0 0 0 0;\n",
              "      width: 32px;\n",
              "    }\n",
              "\n",
              "    .colab-df-convert:hover {\n",
              "      background-color: #E2EBFA;\n",
              "      box-shadow: 0px 1px 2px rgba(60, 64, 67, 0.3), 0px 1px 3px 1px rgba(60, 64, 67, 0.15);\n",
              "      fill: #174EA6;\n",
              "    }\n",
              "\n",
              "    .colab-df-buttons div {\n",
              "      margin-bottom: 4px;\n",
              "    }\n",
              "\n",
              "    [theme=dark] .colab-df-convert {\n",
              "      background-color: #3B4455;\n",
              "      fill: #D2E3FC;\n",
              "    }\n",
              "\n",
              "    [theme=dark] .colab-df-convert:hover {\n",
              "      background-color: #434B5C;\n",
              "      box-shadow: 0px 1px 3px 1px rgba(0, 0, 0, 0.15);\n",
              "      filter: drop-shadow(0px 1px 2px rgba(0, 0, 0, 0.3));\n",
              "      fill: #FFFFFF;\n",
              "    }\n",
              "  </style>\n",
              "\n",
              "    <script>\n",
              "      const buttonEl =\n",
              "        document.querySelector('#df-0601b6c7-08c3-4f0d-8c1b-39b811763a76 button.colab-df-convert');\n",
              "      buttonEl.style.display =\n",
              "        google.colab.kernel.accessAllowed ? 'block' : 'none';\n",
              "\n",
              "      async function convertToInteractive(key) {\n",
              "        const element = document.querySelector('#df-0601b6c7-08c3-4f0d-8c1b-39b811763a76');\n",
              "        const dataTable =\n",
              "          await google.colab.kernel.invokeFunction('convertToInteractive',\n",
              "                                                    [key], {});\n",
              "        if (!dataTable) return;\n",
              "\n",
              "        const docLinkHtml = 'Like what you see? Visit the ' +\n",
              "          '<a target=\"_blank\" href=https://colab.research.google.com/notebooks/data_table.ipynb>data table notebook</a>'\n",
              "          + ' to learn more about interactive tables.';\n",
              "        element.innerHTML = '';\n",
              "        dataTable['output_type'] = 'display_data';\n",
              "        await google.colab.output.renderOutput(dataTable, element);\n",
              "        const docLink = document.createElement('div');\n",
              "        docLink.innerHTML = docLinkHtml;\n",
              "        element.appendChild(docLink);\n",
              "      }\n",
              "    </script>\n",
              "  </div>\n",
              "\n",
              "\n",
              "<div id=\"df-68ed9e2b-03af-4d1f-99de-a68c4d3c88be\">\n",
              "  <button class=\"colab-df-quickchart\" onclick=\"quickchart('df-68ed9e2b-03af-4d1f-99de-a68c4d3c88be')\"\n",
              "            title=\"Suggest charts\"\n",
              "            style=\"display:none;\">\n",
              "\n",
              "<svg xmlns=\"http://www.w3.org/2000/svg\" height=\"24px\"viewBox=\"0 0 24 24\"\n",
              "     width=\"24px\">\n",
              "    <g>\n",
              "        <path d=\"M19 3H5c-1.1 0-2 .9-2 2v14c0 1.1.9 2 2 2h14c1.1 0 2-.9 2-2V5c0-1.1-.9-2-2-2zM9 17H7v-7h2v7zm4 0h-2V7h2v10zm4 0h-2v-4h2v4z\"/>\n",
              "    </g>\n",
              "</svg>\n",
              "  </button>\n",
              "\n",
              "<style>\n",
              "  .colab-df-quickchart {\n",
              "      --bg-color: #E8F0FE;\n",
              "      --fill-color: #1967D2;\n",
              "      --hover-bg-color: #E2EBFA;\n",
              "      --hover-fill-color: #174EA6;\n",
              "      --disabled-fill-color: #AAA;\n",
              "      --disabled-bg-color: #DDD;\n",
              "  }\n",
              "\n",
              "  [theme=dark] .colab-df-quickchart {\n",
              "      --bg-color: #3B4455;\n",
              "      --fill-color: #D2E3FC;\n",
              "      --hover-bg-color: #434B5C;\n",
              "      --hover-fill-color: #FFFFFF;\n",
              "      --disabled-bg-color: #3B4455;\n",
              "      --disabled-fill-color: #666;\n",
              "  }\n",
              "\n",
              "  .colab-df-quickchart {\n",
              "    background-color: var(--bg-color);\n",
              "    border: none;\n",
              "    border-radius: 50%;\n",
              "    cursor: pointer;\n",
              "    display: none;\n",
              "    fill: var(--fill-color);\n",
              "    height: 32px;\n",
              "    padding: 0;\n",
              "    width: 32px;\n",
              "  }\n",
              "\n",
              "  .colab-df-quickchart:hover {\n",
              "    background-color: var(--hover-bg-color);\n",
              "    box-shadow: 0 1px 2px rgba(60, 64, 67, 0.3), 0 1px 3px 1px rgba(60, 64, 67, 0.15);\n",
              "    fill: var(--button-hover-fill-color);\n",
              "  }\n",
              "\n",
              "  .colab-df-quickchart-complete:disabled,\n",
              "  .colab-df-quickchart-complete:disabled:hover {\n",
              "    background-color: var(--disabled-bg-color);\n",
              "    fill: var(--disabled-fill-color);\n",
              "    box-shadow: none;\n",
              "  }\n",
              "\n",
              "  .colab-df-spinner {\n",
              "    border: 2px solid var(--fill-color);\n",
              "    border-color: transparent;\n",
              "    border-bottom-color: var(--fill-color);\n",
              "    animation:\n",
              "      spin 1s steps(1) infinite;\n",
              "  }\n",
              "\n",
              "  @keyframes spin {\n",
              "    0% {\n",
              "      border-color: transparent;\n",
              "      border-bottom-color: var(--fill-color);\n",
              "      border-left-color: var(--fill-color);\n",
              "    }\n",
              "    20% {\n",
              "      border-color: transparent;\n",
              "      border-left-color: var(--fill-color);\n",
              "      border-top-color: var(--fill-color);\n",
              "    }\n",
              "    30% {\n",
              "      border-color: transparent;\n",
              "      border-left-color: var(--fill-color);\n",
              "      border-top-color: var(--fill-color);\n",
              "      border-right-color: var(--fill-color);\n",
              "    }\n",
              "    40% {\n",
              "      border-color: transparent;\n",
              "      border-right-color: var(--fill-color);\n",
              "      border-top-color: var(--fill-color);\n",
              "    }\n",
              "    60% {\n",
              "      border-color: transparent;\n",
              "      border-right-color: var(--fill-color);\n",
              "    }\n",
              "    80% {\n",
              "      border-color: transparent;\n",
              "      border-right-color: var(--fill-color);\n",
              "      border-bottom-color: var(--fill-color);\n",
              "    }\n",
              "    90% {\n",
              "      border-color: transparent;\n",
              "      border-bottom-color: var(--fill-color);\n",
              "    }\n",
              "  }\n",
              "</style>\n",
              "\n",
              "  <script>\n",
              "    async function quickchart(key) {\n",
              "      const quickchartButtonEl =\n",
              "        document.querySelector('#' + key + ' button');\n",
              "      quickchartButtonEl.disabled = true;  // To prevent multiple clicks.\n",
              "      quickchartButtonEl.classList.add('colab-df-spinner');\n",
              "      try {\n",
              "        const charts = await google.colab.kernel.invokeFunction(\n",
              "            'suggestCharts', [key], {});\n",
              "      } catch (error) {\n",
              "        console.error('Error during call to suggestCharts:', error);\n",
              "      }\n",
              "      quickchartButtonEl.classList.remove('colab-df-spinner');\n",
              "      quickchartButtonEl.classList.add('colab-df-quickchart-complete');\n",
              "    }\n",
              "    (() => {\n",
              "      let quickchartButtonEl =\n",
              "        document.querySelector('#df-68ed9e2b-03af-4d1f-99de-a68c4d3c88be button');\n",
              "      quickchartButtonEl.style.display =\n",
              "        google.colab.kernel.accessAllowed ? 'block' : 'none';\n",
              "    })();\n",
              "  </script>\n",
              "</div>\n",
              "\n",
              "    </div>\n",
              "  </div>\n"
            ],
            "application/vnd.google.colaboratory.intrinsic+json": {
              "type": "dataframe",
              "variable_name": "df_train",
              "summary": "{\n  \"name\": \"df_train\",\n  \"rows\": 5737,\n  \"fields\": [\n    {\n      \"column\": \"text\",\n      \"properties\": {\n        \"dtype\": \"string\",\n        \"num_unique_values\": 5672,\n        \"samples\": [\n          \"At noon he rested in a town, and when he wanted to go farther the stable-boy brought out his horse and said, \\u201cA nail is wanting, sir, in the shoe of its left hind foot.\\u201d \\u201cLet it be wanting,\\u201d answered the merchant; \\u201cthe shoe will certainly stay on for the six miles I have still to go. I am in a hurry.\\u201d\",\n          \"Night fell, and nothing was left for him to do, but to seek a bed in this painful solitude. He might certainly have found a good bed on the soft moss, but the fear of wild beasts let him have no rest there, and at last he was forced to make up his mind to spend the night in a tree.\",\n          \"When the king's attendants informed the prince about the death of his father he wept and wailed, and gave notice that he would give half of his kingdom to any one who should bring him news about the murderer of his father. The goldsmith knew full well that it was a tiger that killed the king, and not any hunter's hands, since he had heard from Gangazara how he obtained the crown. Still, he resolved to denounce Gangazara as the king's murderer, so, hiding the crown under his garments, he flew to the palace. He went before the prince and informed him that the assassin was caught, and placed the crown before him. The prince took it into his hands, examined it, and at once gave half the kingdom to Manikkasari, and then inquired about the murderer.\"\n        ],\n        \"semantic_type\": \"\",\n        \"description\": \"\"\n      }\n    },\n    {\n      \"column\": \"input_ids\",\n      \"properties\": {\n        \"dtype\": \"object\",\n        \"semantic_type\": \"\",\n        \"description\": \"\"\n      }\n    }\n  ]\n}"
            }
          },
          "metadata": {},
          "execution_count": 11
        }
      ]
    },
    {
      "cell_type": "markdown",
      "source": [
        "## Dataset creation"
      ],
      "metadata": {
        "id": "EL8qtlJ43ilZ"
      }
    },
    {
      "cell_type": "code",
      "source": [
        "import torch\n",
        "from torch.utils.data import Dataset\n",
        "\n",
        "class TextDataset(Dataset):\n",
        "    def __init__(self, dataframe, max_length=128):\n",
        "        self.data = dataframe\n",
        "        self.max_length = max_length\n",
        "\n",
        "    def __len__(self):\n",
        "        return len(self.data)\n",
        "\n",
        "    def __getitem__(self, idx):\n",
        "        input_ids = self.data.iloc[idx][\"input_ids\"]\n",
        "        if len(input_ids) > self.max_length:\n",
        "            input_ids = input_ids[:self.max_length]\n",
        "        else:\n",
        "            input_ids = input_ids + [vocab['<PAD>']] * (self.max_length - len(input_ids))\n",
        "\n",
        "        return torch.tensor(input_ids)\n",
        "\n",
        "train_dataset = TextDataset(df_train, max_length=128)\n",
        "valid_dataset = TextDataset(df_valid, max_length=128)\n"
      ],
      "metadata": {
        "id": "oXQj30xX03QR"
      },
      "execution_count": 12,
      "outputs": []
    },
    {
      "cell_type": "markdown",
      "source": [
        "# Model Designing"
      ],
      "metadata": {
        "id": "ZyncR3QC36Mv"
      }
    },
    {
      "cell_type": "code",
      "source": [
        "import torch\n",
        "import math\n",
        "import torch.nn as nn\n",
        "import torch.nn.functional as F\n",
        "\n",
        "\n",
        "class PositionalEncoding(torch.nn.Module):\n",
        "    def __init__(self, d_model, max_len=5000):\n",
        "        super().__init__()\n",
        "        pe = torch.zeros(max_len, d_model)\n",
        "        position = torch.arange(0, max_len, dtype=torch.float).unsqueeze(1)\n",
        "        div_term = torch.exp(torch.arange(0, d_model, 2).float() * (-math.log(10000.0) / d_model))\n",
        "        pe[:, 0::2] = torch.sin(position * div_term)\n",
        "        pe[:, 1::2] = torch.cos(position * div_term)\n",
        "        pe = pe.unsqueeze(0).transpose(0, 1)\n",
        "        self.register_buffer('pe', pe)\n",
        "\n",
        "    def forward(self, x):\n",
        "        return x + self.pe[:x.size(0), :]\n",
        "\n",
        "class TransformerBlock(nn.Module):\n",
        "    def __init__(self, embed_size, heads, dropout, forward_expansion):\n",
        "        super(TransformerBlock, self).__init__()\n",
        "        self.attention = nn.MultiheadAttention(embed_size, heads)\n",
        "        self.norm1 = nn.LayerNorm(embed_size)\n",
        "        self.norm2 = nn.LayerNorm(embed_size)\n",
        "\n",
        "        self.feed_forward = nn.Sequential(\n",
        "            nn.Linear(embed_size, forward_expansion * embed_size),\n",
        "            nn.ReLU(),\n",
        "            nn.Linear(forward_expansion * embed_size, embed_size)\n",
        "        )\n",
        "\n",
        "        self.dropout = nn.Dropout(dropout)\n",
        "\n",
        "    def forward(self, value, key, query, mask):\n",
        "        attention_output, _ = self.attention(query, key, value, attn_mask=mask)\n",
        "        x = self.dropout(self.norm1(attention_output + query))\n",
        "        forward_output = self.feed_forward(x)\n",
        "        out = self.dropout(self.norm2(forward_output + x))\n",
        "        return out\n"
      ],
      "metadata": {
        "id": "xNjpn-Lv374A"
      },
      "execution_count": 13,
      "outputs": []
    },
    {
      "cell_type": "markdown",
      "source": [
        "## Language Model\n"
      ],
      "metadata": {
        "id": "SsKaTsEB4DU_"
      }
    },
    {
      "cell_type": "code",
      "source": [
        "class LanguageModel(nn.Module):\n",
        "    def __init__(self, vocab_size, embed_size, num_layers, heads, device, forward_expansion, dropout, max_length):\n",
        "        super(LanguageModel, self).__init__()\n",
        "        self.device = device\n",
        "        self.embed_size = embed_size\n",
        "\n",
        "        self.word_embedding = nn.Embedding(vocab_size, embed_size)\n",
        "        self.position_embedding = PositionalEncoding(embed_size, max_len=max_length)\n",
        "\n",
        "        self.layers = nn.ModuleList(\n",
        "            [\n",
        "                TransformerBlock(\n",
        "                    embed_size,\n",
        "                    heads,\n",
        "                    dropout=dropout,\n",
        "                    forward_expansion=forward_expansion\n",
        "                )\n",
        "                for _ in range(num_layers)\n",
        "            ]\n",
        "        )\n",
        "        self.fc_out = nn.Linear(embed_size, vocab_size)\n",
        "        self.dropout = nn.Dropout(dropout)\n",
        "\n",
        "    def forward(self, x, mask):\n",
        "        out = self.word_embedding(x)\n",
        "        out = self.position_embedding(out)\n",
        "        for layer in self.layers:\n",
        "            out = layer(out, out, out, mask)\n",
        "        out = self.fc_out(out)\n",
        "        return out\n",
        "def generate_text(model, vocab, inverse_vocab, prompt, max_length=50, device='cpu'):\n",
        "    model.eval()\n",
        "    input_ids = [vocab.get(token, vocab['<PAD>']) for token in tokenize(prompt)]\n",
        "    input_tensor = torch.tensor(input_ids).unsqueeze(0).to(device)\n",
        "\n",
        "    generated = input_tensor\n",
        "    for _ in range(max_length):\n",
        "        with torch.no_grad():\n",
        "            outputs = model(generated, mask=None)\n",
        "            next_token_logits = outputs[:, -1, :]\n",
        "            next_token_probs = F.softmax(next_token_logits, dim=-1)\n",
        "            next_token_id = torch.multinomial(next_token_probs, num_samples=1).item()\n",
        "            generated = torch.cat((generated, torch.tensor([[next_token_id]]).to(device)), dim=1)\n",
        "\n",
        "            if next_token_id == vocab['<PAD>']:\n",
        "                break\n",
        "\n",
        "    generated_text = [inverse_vocab.get(idx, '<UNK>') for idx in generated.squeeze().tolist()]\n",
        "    return ' '.join(generated_text)"
      ],
      "metadata": {
        "id": "LFbP2NoU4FIr"
      },
      "execution_count": 14,
      "outputs": []
    },
    {
      "cell_type": "markdown",
      "source": [
        "# Training"
      ],
      "metadata": {
        "id": "bcf2dmdr4HkO"
      }
    },
    {
      "cell_type": "code",
      "source": [
        "from torch.optim import AdamW\n",
        "\n",
        "device = torch.device(\"cuda\" if torch.cuda.is_available() else \"cpu\")\n",
        "vocab_size = len(vocab)\n",
        "embed_size = 256\n",
        "num_layers = 4\n",
        "heads = 8\n",
        "forward_expansion = 4\n",
        "dropout = 0.1\n",
        "max_length = 128\n",
        "\n",
        "model = LanguageModel(\n",
        "    vocab_size=vocab_size,\n",
        "    embed_size=embed_size,\n",
        "    num_layers=num_layers,\n",
        "    heads=heads,\n",
        "    device=device,\n",
        "    forward_expansion=forward_expansion,\n",
        "    dropout=dropout,\n",
        "    max_length=max_length\n",
        ").to(device)\n",
        "\n",
        "optimizer = AdamW(model.parameters(), lr=5e-4)\n",
        "loss_fn = nn.CrossEntropyLoss()\n",
        "\n",
        "train_loader = torch.utils.data.DataLoader(train_dataset, batch_size=16, shuffle=True)\n",
        "valid_loader = torch.utils.data.DataLoader(valid_dataset, batch_size=16)\n",
        "\n",
        "for epoch in range(20):\n",
        "    model.train()\n",
        "    total_loss = 0\n",
        "    for batch in train_loader:\n",
        "        optimizer.zero_grad()\n",
        "        input_ids = batch.to(device)\n",
        "\n",
        "        output = model(input_ids[:, :-1], mask=None)\n",
        "        loss = loss_fn(output.view(-1, vocab_size), input_ids[:, 1:].reshape(-1))\n",
        "\n",
        "        total_loss += loss.item()\n",
        "        loss.backward()\n",
        "        optimizer.step()\n",
        "\n",
        "    print(f\"Epoch {epoch+1}, Loss: {total_loss/len(train_loader)}\")\n"
      ],
      "metadata": {
        "colab": {
          "base_uri": "https://localhost:8080/"
        },
        "id": "gm4fJtpu4JFm",
        "outputId": "14c0dc00-bb59-4a51-910c-c438cdf294f6"
      },
      "execution_count": 15,
      "outputs": [
        {
          "output_type": "stream",
          "name": "stdout",
          "text": [
            "Epoch 1, Loss: 2.5931063159926686\n",
            "Epoch 2, Loss: 2.2390694186548004\n",
            "Epoch 3, Loss: 2.1429949145463185\n",
            "Epoch 4, Loss: 2.0878768762506152\n",
            "Epoch 5, Loss: 2.0500765534164516\n",
            "Epoch 6, Loss: 2.0163985032557115\n",
            "Epoch 7, Loss: 1.9886682143118388\n",
            "Epoch 8, Loss: 1.964789575687026\n",
            "Epoch 9, Loss: 1.943116975029863\n",
            "Epoch 10, Loss: 1.9238891179847186\n",
            "Epoch 11, Loss: 1.905692344920549\n",
            "Epoch 12, Loss: 1.8898489495173802\n",
            "Epoch 13, Loss: 1.874573571602282\n",
            "Epoch 14, Loss: 1.8615689976633758\n",
            "Epoch 15, Loss: 1.849820270179706\n",
            "Epoch 16, Loss: 1.8363473541557291\n",
            "Epoch 17, Loss: 1.8266821236331483\n",
            "Epoch 18, Loss: 1.81621294416757\n",
            "Epoch 19, Loss: 1.8076829041943245\n",
            "Epoch 20, Loss: 1.798010058721792\n"
          ]
        }
      ]
    },
    {
      "cell_type": "markdown",
      "source": [
        "# Time for Graphs"
      ],
      "metadata": {
        "id": "73B9rve15ppy"
      }
    },
    {
      "cell_type": "code",
      "source": [
        "import matplotlib.pyplot as plt\n",
        "\n",
        "train_losses = []\n",
        "\n",
        "for epoch in range(5):\n",
        "    model.train()\n",
        "    total_loss = 0\n",
        "    for batch in train_loader:\n",
        "        optimizer.zero_grad()\n",
        "        input_ids = batch.to(device)\n",
        "\n",
        "        output = model(input_ids[:, :-1], mask=None)\n",
        "        loss = loss_fn(output.view(-1, vocab_size), input_ids[:, 1:].reshape(-1))\n",
        "\n",
        "        total_loss += loss.item()\n",
        "        loss.backward()\n",
        "        optimizer.step()\n",
        "\n",
        "    avg_loss = total_loss / len(train_loader)\n",
        "    train_losses.append(avg_loss)\n",
        "\n",
        "    print(f\"Epoch {epoch+1}, Loss: {avg_loss:.4f}\")\n",
        "\n",
        "plt.figure(figsize=(10, 6))\n",
        "plt.plot(range(1, len(train_losses) + 1), train_losses, marker='o', color='b', label='Training Loss')\n",
        "plt.title('Training Loss Over Epochs')\n",
        "plt.xlabel('Epoch')\n",
        "plt.ylabel('Loss')\n",
        "plt.legend()\n",
        "plt.grid(True)\n",
        "plt.show()\n"
      ],
      "metadata": {
        "colab": {
          "base_uri": "https://localhost:8080/",
          "height": 651
        },
        "id": "U_wygnAP5swe",
        "outputId": "35c570a0-62ee-4e92-c5d6-d6e2fc62178a"
      },
      "execution_count": 16,
      "outputs": [
        {
          "output_type": "stream",
          "name": "stdout",
          "text": [
            "Epoch 1, Loss: 1.7912\n",
            "Epoch 2, Loss: 1.7829\n",
            "Epoch 3, Loss: 1.7757\n",
            "Epoch 4, Loss: 1.7699\n",
            "Epoch 5, Loss: 1.7629\n"
          ]
        },
        {
          "output_type": "display_data",
          "data": {
            "text/plain": [
              "<Figure size 1000x600 with 1 Axes>"
            ],
            "image/png": "[encoded data removed]"
          },
          "metadata": {}
        }
      ]
    },
    {
      "cell_type": "markdown",
      "source": [
        "#Testing"
      ],
      "metadata": {
        "id": "MuPCNuhv4Wf-"
      }
    },
    {
      "cell_type": "code",
      "source": [],
      "metadata": {
        "id": "HD-E4jKR6FYz"
      },
      "execution_count": 16,
      "outputs": []
    },
    {
      "cell_type": "code",
      "source": [
        "while True:\n",
        "  prompt = input(\"Prompt\")\n",
        "  if prompt == \"q\":\n",
        "    break\n",
        "  generated_text = generate_text(model, vocab, inverse_vocab, prompt, max_length=50, device=device)\n",
        "  print(\"Generated text: \", generated_text)\n"
      ],
      "metadata": {
        "colab": {
          "base_uri": "https://localhost:8080/"
        },
        "id": "XxqN_ce_4Xyz",
        "outputId": "f2e2c1e9-a3ed-4b43-8db9-7e1d47633d36"
      },
      "execution_count": 17,
      "outputs": [
        {
          "name": "stdout",
          "output_type": "stream",
          "text": [
            "Promptq\n"
          ]
        }
      ]
    },
    {
      "cell_type": "markdown",
      "source": [
        "#Saving"
      ],
      "metadata": {
        "id": "7VoC6z724YeO"
      }
    },
    {
      "cell_type": "code",
      "source": [
        "torch.save(model.state_dict(), \"kidGPT.pth\")"
      ],
      "metadata": {
        "id": "4dfnZr-44ZxF"
      },
      "execution_count": 18,
      "outputs": []
    }
  ]
}